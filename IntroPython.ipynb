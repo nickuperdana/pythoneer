{
  "cells": [
    {
      "cell_type": "markdown",
      "metadata": {
        "id": "0gYOHY9DFk4B"
      },
      "source": [
        "# Introduction to Python\n",
        "\n",
        "- Variable\n",
        "- Data Type Primary\n",
        "  - Number\n",
        "    - Integer\n",
        "    - Float\n",
        "  - String\n",
        "  - Boolean\n",
        "- Data Type Array (Collections of Data)\n",
        "  - List\n",
        "  - Tuple\n",
        "  - Dictionary\n",
        "  - Set\n",
        "- Operation\n"
      ]
    },
    {
      "cell_type": "markdown",
      "metadata": {
        "id": "hOxhspEjsMB3"
      },
      "source": [
        "---\n",
        "\n",
        "Nama : Nicku Rendy Perdana  \n",
        "Batch : HCK-012  \n",
        "\n",
        "---"
      ]
    },
    {
      "cell_type": "code",
      "execution_count": 1,
      "metadata": {
        "colab": {
          "base_uri": "https://localhost:8080/"
        },
        "id": "GDFs8DJ5r3J7",
        "outputId": "68a6a7c8-01a2-48ad-fc45-2397013030a9"
      },
      "outputs": [
        {
          "name": "stdout",
          "output_type": "stream",
          "text": [
            "HELLO\n"
          ]
        }
      ],
      "source": [
        "# Run this block code\n",
        "print(\"HELLO\")\n",
        "\n",
        "# print(\"WORLD\")"
      ]
    },
    {
      "cell_type": "markdown",
      "metadata": {
        "id": "dLKmJt2KJNDu"
      },
      "source": [
        "# Variable\n",
        "\n",
        "Rules dari membuat nama variable:\n",
        "- Dimulai dengan huruf\n",
        "- Perhatikan plural / singular jika dalam bahasa inggris\n",
        "- bisa camelCase, PascalCase, snake_case tidak kebab-case.\n",
        "\n",
        "\n",
        "Buatlah 3 variable yaitu:\n",
        "- variable name dan isi dengan namamu\n",
        "- variable favoriteNumber isi dengan angka kesukaanmu\n",
        "- variable isHungry dan isi True jika kamu lapar dann False jika kamu tidak lapar"
      ]
    },
    {
      "cell_type": "code",
      "execution_count": 4,
      "metadata": {
        "id": "vH5lUI0kqAxa"
      },
      "outputs": [],
      "source": [
        "# Code dibawah ini\n",
        "\n",
        "name = \"Nicku\"\n",
        "favouriteNumber = 8\n",
        "isHungry = False"
      ]
    },
    {
      "cell_type": "markdown",
      "metadata": {
        "id": "LP6QVd2HqZiR"
      },
      "source": [
        "# Data Type Primary"
      ]
    },
    {
      "cell_type": "markdown",
      "metadata": {
        "id": "ria_IrJ1qRpl"
      },
      "source": [
        "## Data Type Number\n",
        "\n",
        "Terdapat Integer dan Float"
      ]
    },
    {
      "cell_type": "code",
      "execution_count": 16,
      "metadata": {
        "id": "Yc19bHtfqQ-9"
      },
      "outputs": [
        {
          "name": "stdout",
          "output_type": "stream",
          "text": [
            "4.5\n",
            "<class 'float'>\n",
            "False\n",
            "False\n",
            "2\n",
            "4\n",
            "9\n",
            "============\n",
            "4.5\n",
            "<class 'float'>\n"
          ]
        }
      ],
      "source": [
        "# Latihan kode disini (Ikuti dalam kelas)\n",
        "\n",
        "print(favouriteNumber)\n",
        "print(type(favouriteNumber))\n",
        "print(favouriteNumber == 9)\n",
        "print(favouriteNumber == 8)\n",
        "\n",
        "favouriteNumber = 2 # Reassignment terhadap variabel la\n",
        "print(favouriteNumber)\n",
        "\n",
        "favouriteNumber += 2 # langsung menambahkan angka dalam variabel\n",
        "print(favouriteNumber)\n",
        "favouriteNumber = favouriteNumber + 5\n",
        "print(favouriteNumber)\n",
        "\n",
        "print(\"============\")\n",
        "\n",
        "favouriteNumber = favouriteNumber - (favouriteNumber / 2)\n",
        "print(favouriteNumber)\n",
        "print(type(favouriteNumber))"
      ]
    },
    {
      "cell_type": "markdown",
      "metadata": {},
      "source": [
        "Latihan Float"
      ]
    },
    {
      "cell_type": "code",
      "execution_count": 23,
      "metadata": {},
      "outputs": [
        {
          "name": "stdout",
          "output_type": "stream",
          "text": [
            "1.5\n",
            "1\n",
            "1.0\n",
            "==========\n",
            "3\n",
            "3\n"
          ]
        }
      ],
      "source": [
        "tigaSetengah = 1.5\n",
        "print(tigaSetengah)\n",
        "\n",
        "tigaSetengah = int(tigaSetengah)\n",
        "print(tigaSetengah)\n",
        "\n",
        "tigaSetengah = float(tigaSetengah)\n",
        "print(tigaSetengah)\n",
        "\n",
        "print(\"==========\")\n",
        "\n",
        "phi = 3.14\n",
        "print(round(phi))\n",
        "kappa = 3.49\n",
        "print(round(kappa))"
      ]
    },
    {
      "cell_type": "markdown",
      "metadata": {
        "id": "kN7khB5IqC7K"
      },
      "source": [
        "## Data Type String\n",
        "\n",
        "Peruntukannya untuk text dapat menggunakan kutip 1 atau 2 ' \""
      ]
    },
    {
      "cell_type": "code",
      "execution_count": 25,
      "metadata": {
        "id": "JErM3SdVFh9H"
      },
      "outputs": [
        {
          "name": "stdout",
          "output_type": "stream",
          "text": [
            "Nicku\n",
            "<class 'str'>\n",
            "5\n",
            "Nicku R. Perdana\n",
            "16\n",
            "N\n",
            "i\n"
          ]
        }
      ],
      "source": [
        "# Latihan kode disini (Ikuti dalam kelas)\n",
        "\n",
        "name = \"Nicku\"\n",
        "print(name)\n",
        "print(type(name)) # Tipe variabel\n",
        "print(len(name)) # Banyaknya huruf dalam variabel untuk sejauh ini\n",
        "\n",
        "name += str(\" R.\")\n",
        "name += str(\" Perdana\")\n",
        "print(name)\n",
        "print(len(name)) # Banyaknya huruf dalam variabel `name`\n",
        "\n",
        "# Mengambil huruf pertama dengan indexing, urutan dimulai dari 0, 1, 2, 3, 4, dst.\n",
        "print(name[0]) # Huruf pertama nama index 0, urutan ke-3\n",
        "print(name[1]) # Huruf kedua nama index 1, urutan ke-2\n",
        "\n"
      ]
    },
    {
      "cell_type": "code",
      "execution_count": 31,
      "metadata": {},
      "outputs": [
        {
          "name": "stdout",
          "output_type": "stream",
          "text": [
            "8\n",
            "8\n",
            "Nicku R. Perdana\n",
            "NICKU R. PERDANA\n",
            "Nicku\n"
          ]
        }
      ],
      "source": [
        "# Ada 2 nama disimpan pada variable `boy` dan `girl`. Hitung berapa character kedua variable\n",
        "\n",
        "boy = \"Adam\"\n",
        "girl = \"hawa\"\n",
        "\n",
        "# Cara 1\n",
        "print(len(boy) + len(girl))\n",
        "\n",
        "# Cara 2\n",
        "gabungan = boy + girl\n",
        "print(len(gabungan))\n",
        "\n",
        "print(name)\n",
        "print(name.upper()) # Mengkapitalkan semua huruf dalam variabel tanpa argumen\n",
        "\n",
        "name1 = \"nicku\"\n",
        "print(name1.capitalize())"
      ]
    },
    {
      "cell_type": "markdown",
      "metadata": {
        "id": "Wi4SejTIqb7o"
      },
      "source": [
        "## Data Type Boolean\n",
        "\n",
        "Yaitu True dan False"
      ]
    },
    {
      "cell_type": "code",
      "execution_count": 35,
      "metadata": {
        "id": "reRugMYIqhQ0"
      },
      "outputs": [
        {
          "name": "stdout",
          "output_type": "stream",
          "text": [
            "True\n",
            "True\n",
            "<class 'bool'>\n",
            "False holla\n"
          ]
        }
      ],
      "source": [
        "# Latihan kode disini (Ikuti dalam kelas)\n",
        "\n",
        "print(0 == False)\n",
        "print(1 == True)\n",
        "\n",
        "print(type(isHungry))\n",
        "print(str(isHungry) + ' holla')"
      ]
    },
    {
      "cell_type": "code",
      "execution_count": 41,
      "metadata": {},
      "outputs": [
        {
          "name": "stdout",
          "output_type": "stream",
          "text": [
            "Nicku R. Perdana False 4.5\n",
            "Namaku Nicku R. Perdana, angka favoritku adalah 4, status lapar False\n",
            "Namaku Nicku R. Perdana, angka favoritku adalah 4.5, status laparFalse\n"
          ]
        }
      ],
      "source": [
        "# Menggabungkan banyak variabel\n",
        "\n",
        "# Cara 1\n",
        "print(name, isHungry, favouriteNumber)\n",
        "\n",
        "# Cara 2\n",
        "print(f\"Namaku {name}, angka favoritku adalah {int(favouriteNumber)}, status lapar {isHungry}\")\n",
        "\n",
        "# Cara 3\n",
        "print(\"Namaku \" + name + \", angka favoritku adalah \" + str(favouriteNumber) + \", status lapar\" + str(isHungry))"
      ]
    },
    {
      "cell_type": "markdown",
      "metadata": {
        "id": "jnEuh5gQqkzn"
      },
      "source": [
        "# Data Type Array / Data Type For Collections of Data\n",
        "\n",
        "Kalo w3school menyebutkannya sebagai [Python Collections (Arrays)](https://www.w3schools.com/python/python_lists.asp#:~:text=Python%20Collections%20(Arrays)).\n",
        "\n",
        "----- note disini latihan menggunakaan markdown text yaa..\n",
        "\n"
      ]
    },
    {
      "cell_type": "markdown",
      "metadata": {},
      "source": [
        "## List [ ]"
      ]
    },
    {
      "cell_type": "code",
      "execution_count": 56,
      "metadata": {},
      "outputs": [
        {
          "name": "stdout",
          "output_type": "stream",
          "text": [
            "['Bita', 'Nicku', 'Ogi', 'Riki', 'Naufal']\n",
            "<class 'list'>\n",
            "Bita\n",
            "5\n",
            "['Bita', 'Nicku', 'Ogi', 'Naufal']\n",
            "['Bita', 'Nicku', 'Ogi', 'Naufal', 'Ayu']\n",
            "['Bita', 'Nicku', 'Ogi', 'Naufal', 'Riki', 'Riki', 'Riki']\n",
            "Ayu\n",
            "Ayu\n"
          ]
        }
      ],
      "source": [
        "names = [\"Bita\", \"Nicku\", \"Ogi\", \"Riki\", \"Naufal\"]\n",
        "print(names)\n",
        "print(type(names))\n",
        "print(names[0])\n",
        "\n",
        "# Jumlah value/data dalam list\n",
        "print(len(names))\n",
        "\n",
        "# Hapus \"Riki\" dalam List\n",
        "names.remove(\"Riki\") # string sangat case-sensitive\n",
        "print(names)\n",
        "\n",
        "# Menambahkan \"Ayu\"\n",
        "names.append(\"Ayu\") # menambahkan di belakang\n",
        "print(names)\n",
        "\n",
        "#bila nama yang ingin dihapus dengan .remove itu banyak, ia hanya menghapus di index pertama yang ditemui\n",
        "names1 = [\"Bita\", \"Nicku\", \"Ogi\", \"Riki\", \"Naufal\", \"Riki\", \"Riki\", \"Riki\"]\n",
        "names1.remove(\"Riki\")\n",
        "print(names1)\n",
        "\n",
        "\n",
        "# mengakses index terakhir\n",
        "#Cara 1\n",
        "n = len(names) - 1\n",
        "print(names[n])\n",
        "# Cara 2\n",
        "print(names[-1])"
      ]
    },
    {
      "cell_type": "code",
      "execution_count": 60,
      "metadata": {},
      "outputs": [
        {
          "name": "stdout",
          "output_type": "stream",
          "text": [
            "[2000, 1000, 5000, 100, 200]\n",
            "[100, 200, 1000, 2000, 5000]\n",
            "[5000, 2000, 1000, 200, 100]\n"
          ]
        }
      ],
      "source": [
        "numbers = [2000, 1000, 5000, 100, 200]\n",
        "print(numbers)\n",
        "\n",
        "# sort numbers, by default, it is ascending\n",
        "numbers.sort() # akan mereplace variabel numbers\n",
        "print(numbers)\n",
        "\n",
        "# sort numbers, with descending function\n",
        "numbers.sort(reverse=True)\n",
        "print(numbers)"
      ]
    },
    {
      "cell_type": "code",
      "execution_count": 61,
      "metadata": {},
      "outputs": [
        {
          "name": "stdout",
          "output_type": "stream",
          "text": [
            "[5000, 2000, 1000, 200, 100]\n"
          ]
        }
      ],
      "source": [
        "print(numbers)"
      ]
    },
    {
      "cell_type": "code",
      "execution_count": 65,
      "metadata": {},
      "outputs": [
        {
          "name": "stdout",
          "output_type": "stream",
          "text": [
            "['Sushi', 'Cokelat', 'Kopi', 'Yakult']\n",
            "['Sushi', 'Cokelat', 'Kopi', 'Yakult']\n"
          ]
        }
      ],
      "source": [
        "listMakanan = [\"Sushi\", \"Cokelat\", \"Kopi\"]\n",
        "listMakananFavorite = listMakanan\n",
        "listMakananFavorite.append(\"Yakult\")\n",
        "\n",
        "# Keduanya Berubah\n",
        "print(listMakanan)\n",
        "print(listMakananFavorite)"
      ]
    },
    {
      "cell_type": "code",
      "execution_count": 66,
      "metadata": {},
      "outputs": [
        {
          "name": "stdout",
          "output_type": "stream",
          "text": [
            "['Sushi', 'Cokelat', 'Kopi', 'Yakult']\n",
            "['Sushi', 'Cokelat', 'Kopi', 'Yakult', 'Susu']\n"
          ]
        }
      ],
      "source": [
        "listMakananFavourite = listMakanan.copy()\n",
        "listMakananFavourite.append(\"Susu\")\n",
        "\n",
        "print(listMakanan)\n",
        "print(listMakananFavourite)"
      ]
    },
    {
      "cell_type": "markdown",
      "metadata": {},
      "source": [
        "## Tuple ()"
      ]
    },
    {
      "cell_type": "code",
      "execution_count": 90,
      "metadata": {},
      "outputs": [
        {
          "name": "stdout",
          "output_type": "stream",
          "text": [
            "('Bita', 'Nicku', 'Ogi', 'Naufal', 'Riki', 'Riki', 'Riki')\n",
            "Ogi\n"
          ]
        }
      ],
      "source": [
        "names2 = ('Bita', 'Nicku', 'Ogi', 'Naufal', 'Riki', 'Riki', 'Riki')\n",
        "\n",
        "print(names2)\n",
        "print(names[2])\n"
      ]
    },
    {
      "cell_type": "markdown",
      "metadata": {},
      "source": [
        "## Set"
      ]
    },
    {
      "cell_type": "code",
      "execution_count": 70,
      "metadata": {},
      "outputs": [
        {
          "name": "stdout",
          "output_type": "stream",
          "text": [
            "['Bita', 'Nicku', 'Ogi', 'Naufal', 'Riki', 'Riki', 'Riki']\n",
            "{'Riki', 'Ogi', 'Bita', 'Nicku', 'Naufal'}\n"
          ]
        }
      ],
      "source": [
        "# set tidak daoat diakses indeksnya\n",
        "\n",
        "print(names1)\n",
        "print(set(names1))\n",
        "\n",
        "#set tidak dapat diakses indeksnya"
      ]
    },
    {
      "cell_type": "markdown",
      "metadata": {},
      "source": [
        "## Dictionary"
      ]
    },
    {
      "cell_type": "code",
      "execution_count": 78,
      "metadata": {},
      "outputs": [
        {
          "name": "stdout",
          "output_type": "stream",
          "text": [
            "{'name': 'Luwy', 'age': 4, 'weight': 5.5, 'height': 30}\n",
            "4\n",
            "Luwy\n",
            "{'name': 'Luwy', 'age': 4, 'weight': 5.5, 'height': 30, 'isVaccined': True}\n",
            "{'name': 'Snowy', 'age': 4, 'weight': 5.5, 'height': 30, 'isVaccined': True}\n"
          ]
        }
      ],
      "source": [
        "persianCat = {\n",
        "    'name': 'Luwy',\n",
        "    'age': 4,\n",
        "    'weight': 5.5,\n",
        "    'height': 30,\n",
        "}\n",
        "\n",
        "print(persianCat)\n",
        "print(len(persianCat))\n",
        "\n",
        "# akses value dengan keyname (bukan index [])\n",
        "\n",
        "print(persianCat['name']) # mengakses value dari key 'name'\n",
        "\n",
        "# menambahkan keyname dan value baru\n",
        "persianCat['isVaccined'] = True\n",
        "print(persianCat)\n",
        "\n",
        "# mengubah value jika keyname tersebut sudah ada\n",
        "persianCat['name'] = 'Snowy'\n",
        "print(persianCat)\n"
      ]
    },
    {
      "cell_type": "markdown",
      "metadata": {},
      "source": [
        "# Excercise"
      ]
    },
    {
      "cell_type": "code",
      "execution_count": 87,
      "metadata": {},
      "outputs": [
        {
          "name": "stdout",
          "output_type": "stream",
          "text": [
            "0\n",
            "Fanta\n",
            "5\n",
            "Revo Ayu\n",
            "100\n",
            "50\n"
          ]
        }
      ],
      "source": [
        "listAlphabet = [\n",
        "    [0, \"Ayu\", 'Bita', 'Cinta'],\n",
        "    [1, 'Dian', 'Ersa', 'Fanta'],\n",
        "    [2, 'G', 'H', 'I']\n",
        "]\n",
        "\n",
        "print(listAlphabet[0][0])\n",
        "print(listAlphabet[1][3])\n",
        "print(len(listAlphabet[1][-1]))\n",
        "\n",
        "listHCK12 = {\n",
        "    \"students\": ['Bita', 'Revo', 'Nicku', 'Samuel', 'Panji', 'Yuda'],\n",
        "    \"buddy\": ['Ayu', 'Ayu', 'Ayu', 'Sapta', 'Sapta', 'Ayu'],\n",
        "    \"scores\": [100, 100, 90, 90, 100, 50]\n",
        "}\n",
        "\n",
        "# Return nama student 'Revo' dan buddy nya\n",
        "print(listHCK12['students'][1], listHCK12['buddy'][1])\n",
        "\n",
        "# Return skor tertinggi dan terendah\n",
        "print(max(listHCK12['scores']))\n",
        "print(min(listHCK12['scores']))\n",
        "\n"
      ]
    }
  ],
  "metadata": {
    "colab": {
      "provenance": []
    },
    "kernelspec": {
      "display_name": "Python 3",
      "name": "python3"
    },
    "language_info": {
      "codemirror_mode": {
        "name": "ipython",
        "version": 3
      },
      "file_extension": ".py",
      "mimetype": "text/x-python",
      "name": "python",
      "nbconvert_exporter": "python",
      "pygments_lexer": "ipython3",
      "version": "3.11.5"
    }
  },
  "nbformat": 4,
  "nbformat_minor": 0
}
